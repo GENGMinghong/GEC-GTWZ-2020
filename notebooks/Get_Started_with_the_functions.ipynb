{
 "cells": [
  {
   "cell_type": "code",
   "execution_count": 2,
   "metadata": {
    "colab": {
     "base_uri": "https://localhost:8080/",
     "height": 768
    },
    "colab_type": "code",
    "id": "CCPTgnNk3AnH",
    "outputId": "c4842221-0565-4fe3-9147-e8197f51a7d1"
   },
   "outputs": [
    {
     "name": "stdout",
     "output_type": "stream",
     "text": [
      "Collecting errant\n",
      "\u001b[?25l  Downloading https://files.pythonhosted.org/packages/00/ee/7e045d2de9e576dfb37fb115433ce83512c25a2824c5d2ac4bc86f39bd4d/errant-2.2.1-py3-none-any.whl (493kB)\n",
      "\u001b[K     |████████████████████████████████| 501kB 7.4MB/s \n",
      "\u001b[?25hRequirement already satisfied: spacy>=2.2.0 in /usr/local/lib/python3.6/dist-packages (from errant) (2.2.4)\n",
      "Collecting nltk==3.4.5\n",
      "\u001b[?25l  Downloading https://files.pythonhosted.org/packages/f6/1d/d925cfb4f324ede997f6d47bea4d9babba51b49e87a767c170b77005889d/nltk-3.4.5.zip (1.5MB)\n",
      "\u001b[K     |████████████████████████████████| 1.5MB 17.7MB/s \n",
      "\u001b[?25hCollecting python-Levenshtein==0.12.0\n",
      "\u001b[?25l  Downloading https://files.pythonhosted.org/packages/42/a9/d1785c85ebf9b7dfacd08938dd028209c34a0ea3b1bcdb895208bd40a67d/python-Levenshtein-0.12.0.tar.gz (48kB)\n",
      "\u001b[K     |████████████████████████████████| 51kB 6.8MB/s \n",
      "\u001b[?25hRequirement already satisfied: requests<3.0.0,>=2.13.0 in /usr/local/lib/python3.6/dist-packages (from spacy>=2.2.0->errant) (2.23.0)\n",
      "Requirement already satisfied: plac<1.2.0,>=0.9.6 in /usr/local/lib/python3.6/dist-packages (from spacy>=2.2.0->errant) (1.1.3)\n",
      "Requirement already satisfied: murmurhash<1.1.0,>=0.28.0 in /usr/local/lib/python3.6/dist-packages (from spacy>=2.2.0->errant) (1.0.2)\n",
      "Requirement already satisfied: tqdm<5.0.0,>=4.38.0 in /usr/local/lib/python3.6/dist-packages (from spacy>=2.2.0->errant) (4.41.1)\n",
      "Requirement already satisfied: blis<0.5.0,>=0.4.0 in /usr/local/lib/python3.6/dist-packages (from spacy>=2.2.0->errant) (0.4.1)\n",
      "Requirement already satisfied: thinc==7.4.0 in /usr/local/lib/python3.6/dist-packages (from spacy>=2.2.0->errant) (7.4.0)\n",
      "Requirement already satisfied: cymem<2.1.0,>=2.0.2 in /usr/local/lib/python3.6/dist-packages (from spacy>=2.2.0->errant) (2.0.3)\n",
      "Requirement already satisfied: wasabi<1.1.0,>=0.4.0 in /usr/local/lib/python3.6/dist-packages (from spacy>=2.2.0->errant) (0.7.1)\n",
      "Requirement already satisfied: srsly<1.1.0,>=1.0.2 in /usr/local/lib/python3.6/dist-packages (from spacy>=2.2.0->errant) (1.0.2)\n",
      "Requirement already satisfied: numpy>=1.15.0 in /usr/local/lib/python3.6/dist-packages (from spacy>=2.2.0->errant) (1.18.5)\n",
      "Requirement already satisfied: setuptools in /usr/local/lib/python3.6/dist-packages (from spacy>=2.2.0->errant) (49.2.0)\n",
      "Requirement already satisfied: catalogue<1.1.0,>=0.0.7 in /usr/local/lib/python3.6/dist-packages (from spacy>=2.2.0->errant) (1.0.0)\n",
      "Requirement already satisfied: preshed<3.1.0,>=3.0.2 in /usr/local/lib/python3.6/dist-packages (from spacy>=2.2.0->errant) (3.0.2)\n",
      "Requirement already satisfied: six in /usr/local/lib/python3.6/dist-packages (from nltk==3.4.5->errant) (1.15.0)\n",
      "Requirement already satisfied: idna<3,>=2.5 in /usr/local/lib/python3.6/dist-packages (from requests<3.0.0,>=2.13.0->spacy>=2.2.0->errant) (2.10)\n",
      "Requirement already satisfied: urllib3!=1.25.0,!=1.25.1,<1.26,>=1.21.1 in /usr/local/lib/python3.6/dist-packages (from requests<3.0.0,>=2.13.0->spacy>=2.2.0->errant) (1.24.3)\n",
      "Requirement already satisfied: certifi>=2017.4.17 in /usr/local/lib/python3.6/dist-packages (from requests<3.0.0,>=2.13.0->spacy>=2.2.0->errant) (2020.6.20)\n",
      "Requirement already satisfied: chardet<4,>=3.0.2 in /usr/local/lib/python3.6/dist-packages (from requests<3.0.0,>=2.13.0->spacy>=2.2.0->errant) (3.0.4)\n",
      "Requirement already satisfied: importlib-metadata>=0.20; python_version < \"3.8\" in /usr/local/lib/python3.6/dist-packages (from catalogue<1.1.0,>=0.0.7->spacy>=2.2.0->errant) (1.7.0)\n",
      "Requirement already satisfied: zipp>=0.5 in /usr/local/lib/python3.6/dist-packages (from importlib-metadata>=0.20; python_version < \"3.8\"->catalogue<1.1.0,>=0.0.7->spacy>=2.2.0->errant) (3.1.0)\n",
      "Building wheels for collected packages: nltk, python-Levenshtein\n",
      "  Building wheel for nltk (setup.py) ... \u001b[?25l\u001b[?25hdone\n",
      "  Created wheel for nltk: filename=nltk-3.4.5-cp36-none-any.whl size=1449908 sha256=97b7c8d687a2a0ed5a1cf43979c887c8ba45a7205089b6eba85a3aa6cde41b36\n",
      "  Stored in directory: /root/.cache/pip/wheels/96/86/f6/68ab24c23f207c0077381a5e3904b2815136b879538a24b483\n",
      "  Building wheel for python-Levenshtein (setup.py) ... \u001b[?25l\u001b[?25hdone\n",
      "  Created wheel for python-Levenshtein: filename=python_Levenshtein-0.12.0-cp36-cp36m-linux_x86_64.whl size=144799 sha256=3e1a17f80140150efe50489f819bc8a949571bb3f32b6d3b98326d491e23b4e0\n",
      "  Stored in directory: /root/.cache/pip/wheels/de/c2/93/660fd5f7559049268ad2dc6d81c4e39e9e36518766eaf7e342\n",
      "Successfully built nltk python-Levenshtein\n",
      "Installing collected packages: nltk, python-Levenshtein, errant\n",
      "  Found existing installation: nltk 3.2.5\n",
      "    Uninstalling nltk-3.2.5:\n",
      "      Successfully uninstalled nltk-3.2.5\n",
      "Successfully installed errant-2.2.1 nltk-3.4.5 python-Levenshtein-0.12.0\n"
     ]
    }
   ],
   "source": [
    "# Please feel free to try out the functions that we provide\n",
    "\n",
    "!pip install errant\n",
    "\n",
    "# 1. Import Packages\n",
    "import difflib\n",
    "import pandas as pd\n",
    "import errant\n",
    "annotator = errant.load('en')\n",
    "\n",
    "#lemmatizer = WordNetLemmatizer()\n",
    "#ps = PorterStemmer() \n",
    "\n",
    "# 2. Define Functions \n",
    "# 2.1 Get the Action: insert, remove, and replace\n",
    "def get_action(s1,s2):\n",
    "    orig = annotator.parse(s1)\n",
    "    cor = annotator.parse(s2)\n",
    "    edits = annotator.annotate(orig, cor)\n",
    "    for e in edits:\n",
    "        if 'R:' in e.type:\n",
    "            return 'replace'\n",
    "        elif 'M:' in e.type:\n",
    "            return 'insert'\n",
    "        elif 'U:' in e.type:\n",
    "            return 'remove'\n",
    "        \n",
    "# 2.2 Get the change made py GEC                \n",
    "def get_diff(a,b):\n",
    "    s= [li for li in difflib.ndiff(a, b) if li[0] != ' ']\n",
    "    return s\n",
    "\n",
    "# 2.3 Get the category of the correction, there are \n",
    "# This part is used to get the category of the correction\n",
    "# Get the Category of errors, there are 6 types all together.\n",
    "punc=['- .','+ .','- ,','+ ,',\"- '\",\"+ '\", '- ;','+ ;','- -','+ -','-  ','+  ']\n",
    "ing = ['+ i', '+ n', '+ g']\n",
    "\n",
    "def get_category(s1,s2):\n",
    "    orig = annotator.parse(s1)\n",
    "    cor = annotator.parse(s2)\n",
    "    edits = annotator.annotate(orig, cor)\n",
    "    for e in edits:\n",
    "        if 'DET' in e.type:\n",
    "            return 'Articles'\n",
    "        elif 'PREP' in e.type or 'PART' in e.type:\n",
    "            return 'Preposition'\n",
    "        elif 'PUNCT' in e.type or get_diff(e.o_str, e.c_str)[0] in punc:\n",
    "            return 'Punctuation'\n",
    "        elif 'VERB' in e.type or set(ing).issubset(set(get_diff(e.o_str, e.c_str))):\n",
    "            if 'SVA' in e.type:\n",
    "                return 'Subject Verb Agreement'\n",
    "            else:\n",
    "                return 'Verb Form'\n",
    "        elif 'NOUN' in e.type or 'ADJ' in e.type or 'MORPH' in e.type or 'SPELL' in e.type or 'ORTH' in e.type:\n",
    "            return 'Word Form'\n",
    "        else:\n",
    "            return 'Other'\n",
    "\n",
    "\n",
    "# Get The Explaination of Correction made by our Grammar Correction Engine\n",
    "# This function will make use of the get_action() and get_difference() function.\n",
    "def get_explanation(s1,s2):\n",
    "    orig = annotator.parse(s1)\n",
    "    cor = annotator.parse(s2)\n",
    "    edits = annotator.annotate(orig, cor)\n",
    "    error = get_category(s1,s2)\n",
    "    if error == 'Verb Form':\n",
    "        for e in edits:\n",
    "            if 'TENSE' in e.type:\n",
    "                if 'R:' in e.type:\n",
    "                    return f\"Verb tense error, should replace '{e.o_str}' with '{e.c_str}'.\"\n",
    "                elif 'M:' in e.type:\n",
    "                    return f\"Verb tense error, should insert '{e.c_str}'.\"\n",
    "                else:\n",
    "                    return f\"Verb tense error, should remove '{e.o_str}'.\"\n",
    "            elif 'FORM' in e.type:\n",
    "                if 'R:' in e.type:\n",
    "                    return f\"Verb form error, should replace '{e.o_str}' with '{e.c_str}'.\"\n",
    "                elif 'M:' in e.type:\n",
    "                    return f\"Verb form error, should insert '{e.c_str}'.\"\n",
    "                else:\n",
    "                    return f\"Verb form error, should remove '{e.o_str}'.\"\n",
    "            elif set(ing).issubset(set(get_diff(e.o_str, e.c_str))):\n",
    "                if 'R:' in e.type:\n",
    "                    return f\"Present continuous tense, should replace '{e.o_str}' with '{e.c_str}'.\"\n",
    "                elif 'M:' in e.type:\n",
    "                    return f\"Present continuous tense, should insert '{e.c_str}'.\"\n",
    "                else:\n",
    "                    return f\"Present continuous tense, should remove '{e.o_str}'.\"\n",
    "            else:\n",
    "                if 'R:' in e.type:\n",
    "                    return f\"Other verb error, should replace '{e.o_str}' with '{e.c_str}'.\"\n",
    "                elif 'M:' in e.type:\n",
    "                    return f\"Other verb error, should insert '{e.c_str}'.\"\n",
    "                else:\n",
    "                    return f\"Other verb error, should remove '{e.o_str}'.\"\n",
    "    elif error == 'Word Form':\n",
    "        for e in edits:\n",
    "            if 'NUM' in e.type:\n",
    "                if 'R:' in e.type:\n",
    "                    return f\"Noun Number error, should replace '{e.o_str}' with '{e.c_str}'.\"\n",
    "                elif 'M:' in e.type:\n",
    "                    return f\"Noun Number error, should insert '{e.c_str}'.\"\n",
    "                else:\n",
    "                    return f\"Noun Number error, should remove '{e.o_str}'.\"\n",
    "            elif 'ADJ' in e.type:\n",
    "                if 'R:' in e.type:\n",
    "                    return f\"Adjective error, should replace '{e.o_str}' with '{e.c_str}'.\"\n",
    "                elif 'M:' in e.type:\n",
    "                    return f\"Adjective error, should insert '{e.c_str}'.\"\n",
    "                else:\n",
    "                    return f\"Adjective error, should remove '{e.o_str}'.\"\n",
    "            elif 'MORPH' in e.type:\n",
    "                if 'R:' in e.type:\n",
    "                    return f\"Morphology error, should replace '{e.o_str}' with '{e.c_str}'.\"\n",
    "                elif 'M:' in e.type:\n",
    "                    return f\"Morphology error, should insert '{e.c_str}'.\"\n",
    "                else:\n",
    "                    return f\"Morphology error, should remove '{e.o_str}'.\"\n",
    "            elif 'ORTH' in e.type:\n",
    "                if 'R:' in e.type:\n",
    "                    return f\"Orthography error, should replace '{e.o_str}' with '{e.c_str}'.\"\n",
    "                elif 'M:' in e.type:\n",
    "                    return f\"Orthography error, should insert '{e.c_str}'.\"\n",
    "                else:\n",
    "                    return f\"Orthography error, should remove '{e.o_str}'.\"\n",
    "            else:\n",
    "                if 'R:' in e.type:\n",
    "                    return f\"Other word form error, should replace '{e.o_str}' with '{e.c_str}'.\"\n",
    "                elif 'M:' in e.type:\n",
    "                    return f\"Other word form error, should insert '{e.c_str}'.\"\n",
    "                else:\n",
    "                    return f\"Other word form error, should remove '{e.o_str}'.\"\n",
    "    elif error == 'Punctuation':\n",
    "        for e in edits:\n",
    "            if 'M:' in e.type:\n",
    "                expla = f\"Consider add punctuation '{e.c_str}' in your sentence.\"\n",
    "                return expla\n",
    "            if 'R:' in e.type:\n",
    "                expla = f\"Consider change the punctuation into '{e.c_str}'.\"\n",
    "                return expla\n",
    "            if 'U:' in e.type:\n",
    "                expla = f\"Please remove the unnecessary punctuation '{e.c_str}'.\"\n",
    "                return expla           \n",
    "    elif error == 'Subject Verb Agreement':\n",
    "        for e in edits:\n",
    "            if True:\n",
    "                expla = f\"Please check the subject-verb agreement, choose the approate format for verb '{e.c_str}'.\"\n",
    "                return expla\n",
    "    elif error == 'Articles':\n",
    "        for e in edits:\n",
    "            if 'R:' in e.type:\n",
    "                expla = f\"Consider article '{e.c_str}' in front of countable or singular nouns referring to people or things what have not already been mentioned.\"\n",
    "                return expla\n",
    "            elif 'M:' in e.type:\n",
    "                expla = f\"Article '{e.c_str}' is required because of the countable or singular nouns referring to people or things what have not already been mentioned.\"\n",
    "                return expla\n",
    "            elif 'U:' in e.type:\n",
    "                return 'No article required'\n",
    "    elif error =='Preposition':\n",
    "        for e in edits:\n",
    "            if 'R:' in e.type:\n",
    "                expla = f\"Consider '{e.c_str}' to be the proper preposition.\"\n",
    "                return expla\n",
    "            elif 'M:' in e.type:\n",
    "                expla = f\"You need a preposition '{e.c_str}'before a noun or pronoun to show place, position, time or method.\"\n",
    "                return expla\n",
    "            elif 'U:' in e.type:\n",
    "                expla = f\"You don't need preposition '{e.o_str}' here, consider to remove it.\"\n",
    "                return expla\n",
    "            else:\n",
    "                return 'Others'\n",
    "\n",
    "def get_highlighted_sentence(s1,s2):\n",
    "    seqm = difflib.SequenceMatcher(None,s1,s2)\n",
    "    \"\"\"Unify operations between two compared strings seqm is a difflib.SequenceMatcher instance whose a & b are strings\"\"\"\n",
    "    output= []\n",
    "    for i,j in enumerate(seqm.get_opcodes()):\n",
    "        opcode,a0,a1,b0,b1 = j\n",
    "        if opcode == 'equal':\n",
    "            output.append(seqm.a[a0:a1].strip())\n",
    "        elif opcode == 'insert':\n",
    "            insert = seqm.b[b0:b1]\n",
    "            if seqm.b[b0-1] == \" \":\n",
    "                output.append(\"<insert_word>\")\n",
    "            else:\n",
    "                v = a0\n",
    "                while seqm.a[v-1]!=\" \":\n",
    "                    v-=1\n",
    "                if output and seqm.a[v:a0] in output[-1]:\n",
    "                    output[-1] = output[-1].replace(seqm.a[v:a0],\"\").strip()\n",
    "                output.append(\"<insert>\" + seqm.a[v:a0] + \"</insert>\")\n",
    "        elif opcode == 'delete':\n",
    "            v = a0\n",
    "            if seqm.a[v-1]!=\" \":\n",
    "                while seqm.a[v-1]!=\" \":\n",
    "                    v-=1\n",
    "                if output and seqm.a[v:a0] in output[-1]:\n",
    "                    output[-1] = output[-1].replace(seqm.a[v:a0],\"\").strip()\n",
    "            output.append(\"<delete>\" + seqm.a[v:a1] + \"</delete>\")\n",
    "            \n",
    "        elif opcode == 'replace':\n",
    "            v = a0\n",
    "            if seqm.a[v-1]!=\" \":\n",
    "                while seqm.a[v-1]!=\" \":\n",
    "                    v-=1\n",
    "                if output and seqm.a[v:a0] in output[-1]:\n",
    "                    output[-1] = output[-1].replace(seqm.a[v:a0],\"\").strip()\n",
    "            output.append(\"<replace>\" + seqm.a[v:a1] + \"</replace>\") \n",
    "    output = \" \".join(output).split(\" \")\n",
    "    indices = [i for i, x in enumerate(output) if x == \"<insert_word>\"]\n",
    "    if indices:\n",
    "        for indice in indices:\n",
    "            output[indice-1] = \"\".join([\"####\",output[indice-1]]) \n",
    "            output[indice+1] = \"\".join([output[indice+1],\"###\"])\n",
    "        output = [x for x in output if x!=\"<insert_word>\"]\n",
    "    output = ' '.join(output)\n",
    "    output = output.replace(\"<replace>\",\"####\").replace(\"</replace>\",\"###\")\n",
    "    output = output.replace(\"<insert>\",\"####\").replace(\"</insert>\",\"###\")\n",
    "    output = output.replace(\"<delete>\",\"####\").replace(\"</delete>\",\"###\")\n",
    "    return output"
   ]
  },
  {
   "cell_type": "code",
   "execution_count": 3,
   "metadata": {
    "colab": {
     "base_uri": "https://localhost:8080/",
     "height": 35
    },
    "colab_type": "code",
    "id": "XkVqTbii3gfF",
    "outputId": "a92d364e-0d86-49dc-a5ac-7efe24c9dd1b"
   },
   "outputs": [
    {
     "data": {
      "application/vnd.google.colaboratory.intrinsic+json": {
       "type": "string"
      },
      "text/plain": [
       "'remove'"
      ]
     },
     "execution_count": 3,
     "metadata": {
      "tags": []
     },
     "output_type": "execute_result"
    }
   ],
   "source": [
    "#Try out the get_action function which will return the action you need to correct the sentence\n",
    "\n",
    "s1 = 'I have researched on recent health food trends.'\n",
    "s2 = 'I have researched recent health food trends.'\n",
    "get_action(s1,s2)"
   ]
  },
  {
   "cell_type": "code",
   "execution_count": 4,
   "metadata": {
    "colab": {
     "base_uri": "https://localhost:8080/",
     "height": 35
    },
    "colab_type": "code",
    "id": "KKj483GN38xQ",
    "outputId": "6e30ec97-3315-4193-d21f-a2b75b3d1abb"
   },
   "outputs": [
    {
     "data": {
      "application/vnd.google.colaboratory.intrinsic+json": {
       "type": "string"
      },
      "text/plain": [
       "'Preposition'"
      ]
     },
     "execution_count": 4,
     "metadata": {
      "tags": []
     },
     "output_type": "execute_result"
    }
   ],
   "source": [
    "#Try out the get_category function which will return the error category you made\n",
    "\n",
    "get_category(s1,s2)"
   ]
  },
  {
   "cell_type": "code",
   "execution_count": 5,
   "metadata": {
    "colab": {
     "base_uri": "https://localhost:8080/",
     "height": 35
    },
    "colab_type": "code",
    "id": "ippPLkcA4GCP",
    "outputId": "75c1cd2a-6a12-4f81-e108-3d0c85314159"
   },
   "outputs": [
    {
     "data": {
      "application/vnd.google.colaboratory.intrinsic+json": {
       "type": "string"
      },
      "text/plain": [
       "\"You don't need preposition 'on' here, consider to remove it.\""
      ]
     },
     "execution_count": 5,
     "metadata": {
      "tags": []
     },
     "output_type": "execute_result"
    }
   ],
   "source": [
    "#Try out the get_explanation function which will return the explanation of our proposed solution\n",
    "\n",
    "get_explanation(s1,s2)"
   ]
  }
 ],
 "metadata": {
  "colab": {
   "name": "Get Started with the functions.ipynb",
   "provenance": []
  },
  "kernelspec": {
   "display_name": "Python 3",
   "language": "python",
   "name": "python3"
  },
  "language_info": {
   "codemirror_mode": {
    "name": "ipython",
    "version": 3
   },
   "file_extension": ".py",
   "mimetype": "text/x-python",
   "name": "python",
   "nbconvert_exporter": "python",
   "pygments_lexer": "ipython3",
   "version": "3.6.8"
  }
 },
 "nbformat": 4,
 "nbformat_minor": 4
}
