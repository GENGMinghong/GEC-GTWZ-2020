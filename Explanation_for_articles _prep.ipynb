{
 "cells": [
  {
   "cell_type": "code",
   "execution_count": 1,
   "metadata": {
    "colab": {
     "base_uri": "https://localhost:8080/",
     "height": 768
    },
    "colab_type": "code",
    "id": "zoVnJBWh9oob",
    "outputId": "b7f3aeec-25f5-4037-d3b6-1befc91ea488"
   },
   "outputs": [
    {
     "name": "stdout",
     "output_type": "stream",
     "text": [
      "Collecting errant\n",
      "\u001b[?25l  Downloading https://files.pythonhosted.org/packages/00/ee/7e045d2de9e576dfb37fb115433ce83512c25a2824c5d2ac4bc86f39bd4d/errant-2.2.1-py3-none-any.whl (493kB)\n",
      "\u001b[K     |████████████████████████████████| 501kB 2.8MB/s \n",
      "\u001b[?25hCollecting python-Levenshtein==0.12.0\n",
      "\u001b[?25l  Downloading https://files.pythonhosted.org/packages/42/a9/d1785c85ebf9b7dfacd08938dd028209c34a0ea3b1bcdb895208bd40a67d/python-Levenshtein-0.12.0.tar.gz (48kB)\n",
      "\u001b[K     |████████████████████████████████| 51kB 5.0MB/s \n",
      "\u001b[?25hRequirement already satisfied: spacy>=2.2.0 in /usr/local/lib/python3.6/dist-packages (from errant) (2.2.4)\n",
      "Collecting nltk==3.4.5\n",
      "\u001b[?25l  Downloading https://files.pythonhosted.org/packages/f6/1d/d925cfb4f324ede997f6d47bea4d9babba51b49e87a767c170b77005889d/nltk-3.4.5.zip (1.5MB)\n",
      "\u001b[K     |████████████████████████████████| 1.5MB 12.1MB/s \n",
      "\u001b[?25hRequirement already satisfied: setuptools in /usr/local/lib/python3.6/dist-packages (from python-Levenshtein==0.12.0->errant) (49.1.0)\n",
      "Requirement already satisfied: srsly<1.1.0,>=1.0.2 in /usr/local/lib/python3.6/dist-packages (from spacy>=2.2.0->errant) (1.0.2)\n",
      "Requirement already satisfied: thinc==7.4.0 in /usr/local/lib/python3.6/dist-packages (from spacy>=2.2.0->errant) (7.4.0)\n",
      "Requirement already satisfied: wasabi<1.1.0,>=0.4.0 in /usr/local/lib/python3.6/dist-packages (from spacy>=2.2.0->errant) (0.7.1)\n",
      "Requirement already satisfied: catalogue<1.1.0,>=0.0.7 in /usr/local/lib/python3.6/dist-packages (from spacy>=2.2.0->errant) (1.0.0)\n",
      "Requirement already satisfied: numpy>=1.15.0 in /usr/local/lib/python3.6/dist-packages (from spacy>=2.2.0->errant) (1.18.5)\n",
      "Requirement already satisfied: requests<3.0.0,>=2.13.0 in /usr/local/lib/python3.6/dist-packages (from spacy>=2.2.0->errant) (2.23.0)\n",
      "Requirement already satisfied: murmurhash<1.1.0,>=0.28.0 in /usr/local/lib/python3.6/dist-packages (from spacy>=2.2.0->errant) (1.0.2)\n",
      "Requirement already satisfied: tqdm<5.0.0,>=4.38.0 in /usr/local/lib/python3.6/dist-packages (from spacy>=2.2.0->errant) (4.41.1)\n",
      "Requirement already satisfied: plac<1.2.0,>=0.9.6 in /usr/local/lib/python3.6/dist-packages (from spacy>=2.2.0->errant) (1.1.3)\n",
      "Requirement already satisfied: preshed<3.1.0,>=3.0.2 in /usr/local/lib/python3.6/dist-packages (from spacy>=2.2.0->errant) (3.0.2)\n",
      "Requirement already satisfied: cymem<2.1.0,>=2.0.2 in /usr/local/lib/python3.6/dist-packages (from spacy>=2.2.0->errant) (2.0.3)\n",
      "Requirement already satisfied: blis<0.5.0,>=0.4.0 in /usr/local/lib/python3.6/dist-packages (from spacy>=2.2.0->errant) (0.4.1)\n",
      "Requirement already satisfied: six in /usr/local/lib/python3.6/dist-packages (from nltk==3.4.5->errant) (1.15.0)\n",
      "Requirement already satisfied: importlib-metadata>=0.20; python_version < \"3.8\" in /usr/local/lib/python3.6/dist-packages (from catalogue<1.1.0,>=0.0.7->spacy>=2.2.0->errant) (1.7.0)\n",
      "Requirement already satisfied: urllib3!=1.25.0,!=1.25.1,<1.26,>=1.21.1 in /usr/local/lib/python3.6/dist-packages (from requests<3.0.0,>=2.13.0->spacy>=2.2.0->errant) (1.24.3)\n",
      "Requirement already satisfied: chardet<4,>=3.0.2 in /usr/local/lib/python3.6/dist-packages (from requests<3.0.0,>=2.13.0->spacy>=2.2.0->errant) (3.0.4)\n",
      "Requirement already satisfied: certifi>=2017.4.17 in /usr/local/lib/python3.6/dist-packages (from requests<3.0.0,>=2.13.0->spacy>=2.2.0->errant) (2020.6.20)\n",
      "Requirement already satisfied: idna<3,>=2.5 in /usr/local/lib/python3.6/dist-packages (from requests<3.0.0,>=2.13.0->spacy>=2.2.0->errant) (2.10)\n",
      "Requirement already satisfied: zipp>=0.5 in /usr/local/lib/python3.6/dist-packages (from importlib-metadata>=0.20; python_version < \"3.8\"->catalogue<1.1.0,>=0.0.7->spacy>=2.2.0->errant) (3.1.0)\n",
      "Building wheels for collected packages: python-Levenshtein, nltk\n",
      "  Building wheel for python-Levenshtein (setup.py) ... \u001b[?25l\u001b[?25hdone\n",
      "  Created wheel for python-Levenshtein: filename=python_Levenshtein-0.12.0-cp36-cp36m-linux_x86_64.whl size=144795 sha256=8a220d6a01e4f577f972398b1e4f8d1d59d0851004dbec63ad93da0672afa3e4\n",
      "  Stored in directory: /root/.cache/pip/wheels/de/c2/93/660fd5f7559049268ad2dc6d81c4e39e9e36518766eaf7e342\n",
      "  Building wheel for nltk (setup.py) ... \u001b[?25l\u001b[?25hdone\n",
      "  Created wheel for nltk: filename=nltk-3.4.5-cp36-none-any.whl size=1449905 sha256=dffd74e748c9feb6375d2a18c4d68eb4853f66a352781e94092d7283c0c1bc30\n",
      "  Stored in directory: /root/.cache/pip/wheels/96/86/f6/68ab24c23f207c0077381a5e3904b2815136b879538a24b483\n",
      "Successfully built python-Levenshtein nltk\n",
      "Installing collected packages: python-Levenshtein, nltk, errant\n",
      "  Found existing installation: nltk 3.2.5\n",
      "    Uninstalling nltk-3.2.5:\n",
      "      Successfully uninstalled nltk-3.2.5\n",
      "Successfully installed errant-2.2.1 nltk-3.4.5 python-Levenshtein-0.12.0\n"
     ]
    }
   ],
   "source": [
    "!pip install errant"
   ]
  },
  {
   "cell_type": "code",
   "execution_count": 2,
   "metadata": {
    "colab": {},
    "colab_type": "code",
    "id": "zVPlueN6925s"
   },
   "outputs": [],
   "source": [
    "import errant\n",
    "import pandas as pd\n",
    "import difflib"
   ]
  },
  {
   "cell_type": "code",
   "execution_count": 3,
   "metadata": {
    "colab": {},
    "colab_type": "code",
    "id": "3vVgrRBz-TTS"
   },
   "outputs": [],
   "source": [
    "def get_diff(a,b):\n",
    "    if len(a)>len(b): \n",
    "        res=''.join(a.split(b))             \n",
    "    else: \n",
    "        res=''.join(b.split(a))             \n",
    "    return res.strip()"
   ]
  },
  {
   "cell_type": "code",
   "execution_count": 4,
   "metadata": {
    "colab": {},
    "colab_type": "code",
    "id": "S66UWzLp-Tad"
   },
   "outputs": [],
   "source": [
    "punctuation = ['.',',','!','?','..','...','-']"
   ]
  },
  {
   "cell_type": "code",
   "execution_count": 6,
   "metadata": {
    "colab": {},
    "colab_type": "code",
    "id": "wl0iADQw-Te5"
   },
   "outputs": [],
   "source": [
    "def error_type(s1,s2):\n",
    "    annotator = errant.load('en')\n",
    "    orig = annotator.parse(s1)\n",
    "    cor = annotator.parse(s2)\n",
    "    edits = annotator.annotate(orig, cor)\n",
    "    for e in edits:\n",
    "        if 'DET' in e.type:\n",
    "            return 'Articles'\n",
    "        elif 'PREP' in e.type or 'PART' in e.type:\n",
    "            return 'Preposition'\n",
    "        elif 'PUNCT' in e.type or (e.o_str!='' and e.c_str!='' and get_diff(e.o_str,e.c_str) in punctuation) or ('-' in e.o_str or '-' in e.c_str):\n",
    "            return 'Punctuation'\n",
    "        elif 'VERB' in e.type:\n",
    "            if 'SVA' in e.type:\n",
    "                return 'Subject Verb Agreement'\n",
    "            else:\n",
    "                return 'Verb Form'\n",
    "        elif 'NOUN' in e.type or 'ADJ' in e.type or 'MORPH' in e.type:\n",
    "            return 'Word Form'\n",
    "        else:\n",
    "            return 'Other'"
   ]
  },
  {
   "cell_type": "code",
   "execution_count": 7,
   "metadata": {
    "colab": {},
    "colab_type": "code",
    "id": "fnm-Pq6y-hid"
   },
   "outputs": [],
   "source": [
    "def get_action(s1,s2):\n",
    "    annotator = errant.load('en')\n",
    "    orig = annotator.parse(s1)\n",
    "    cor = annotator.parse(s2)\n",
    "    edits = annotator.annotate(orig, cor)\n",
    "    for e in edits:\n",
    "        if 'R:' in e.type:\n",
    "            return 'replace'\n",
    "        elif 'M:' in e.type:\n",
    "            return 'insert'\n",
    "        elif 'U:' in e.type:\n",
    "            return 'remove'"
   ]
  },
  {
   "cell_type": "code",
   "execution_count": 10,
   "metadata": {
    "colab": {},
    "colab_type": "code",
    "id": "ZgmB0LEH-phj"
   },
   "outputs": [],
   "source": [
    "data = pd.read_csv('ErrorData.csv')"
   ]
  },
  {
   "cell_type": "code",
   "execution_count": 9,
   "metadata": {
    "colab": {
     "base_uri": "https://localhost:8080/",
     "height": 89,
     "resources": {
      "http://localhost:8080/nbextensions/google.colab/files.js": {
       "data": "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",
       "headers": [
        [
         "content-type",
         "application/javascript"
        ]
       ],
       "ok": true,
       "status": 200,
       "status_text": ""
      }
     }
    },
    "colab_type": "code",
    "id": "pCWswPKE_P3l",
    "outputId": "8727f654-9965-4eba-c7b9-bc1b822dcebe"
   },
   "outputs": [
    {
     "data": {
      "text/html": [
       "\n",
       "     <input type=\"file\" id=\"files-e1ce9f5f-43fe-4577-b18a-8e3f368868da\" name=\"files[]\" multiple disabled\n",
       "        style=\"border:none\" />\n",
       "     <output id=\"result-e1ce9f5f-43fe-4577-b18a-8e3f368868da\">\n",
       "      Upload widget is only available when the cell has been executed in the\n",
       "      current browser session. Please rerun this cell to enable.\n",
       "      </output>\n",
       "      <script src=\"/nbextensions/google.colab/files.js\"></script> "
      ],
      "text/plain": [
       "<IPython.core.display.HTML object>"
      ]
     },
     "metadata": {
      "tags": []
     },
     "output_type": "display_data"
    },
    {
     "name": "stdout",
     "output_type": "stream",
     "text": [
      "Saving ErrorData.csv to ErrorData.csv\n",
      "User uploaded file \"ErrorData.csv\" with length 101264 bytes\n"
     ]
    }
   ],
   "source": [
    "from google.colab import files\n",
    "\n",
    "uploaded = files.upload()\n",
    "\n",
    "for fn in uploaded.keys():\n",
    "  print('User uploaded file \"{name}\" with length {length} bytes'.format(\n",
    "      name=fn, length=len(uploaded[fn])))"
   ]
  },
  {
   "cell_type": "code",
   "execution_count": 31,
   "metadata": {
    "colab": {
     "base_uri": "https://localhost:8080/",
     "height": 1000
    },
    "colab_type": "code",
    "id": "m1hhX_KQ_Xga",
    "outputId": "31192c0b-8b41-4fa7-8814-85cdcdca45e8"
   },
   "outputs": [
    {
     "data": {
      "text/html": [
       "<div>\n",
       "<style scoped>\n",
       "    .dataframe tbody tr th:only-of-type {\n",
       "        vertical-align: middle;\n",
       "    }\n",
       "\n",
       "    .dataframe tbody tr th {\n",
       "        vertical-align: top;\n",
       "    }\n",
       "\n",
       "    .dataframe thead th {\n",
       "        text-align: right;\n",
       "    }\n",
       "</style>\n",
       "<table border=\"1\" class=\"dataframe\">\n",
       "  <thead>\n",
       "    <tr style=\"text-align: right;\">\n",
       "      <th></th>\n",
       "      <th>questionid</th>\n",
       "      <th>category</th>\n",
       "      <th>round</th>\n",
       "      <th>question</th>\n",
       "      <th>solution</th>\n",
       "      <th>explanation</th>\n",
       "      <th>type</th>\n",
       "      <th>action</th>\n",
       "      <th>give_action</th>\n",
       "      <th>give_category</th>\n",
       "    </tr>\n",
       "  </thead>\n",
       "  <tbody>\n",
       "    <tr>\n",
       "      <th>0</th>\n",
       "      <td>1</td>\n",
       "      <td>Articles</td>\n",
       "      <td>1</td>\n",
       "      <td>These devices generate huge amount of data tha...</td>\n",
       "      <td>These devices generate a huge amount of data t...</td>\n",
       "      <td>Article required</td>\n",
       "      <td>C</td>\n",
       "      <td>insert</td>\n",
       "      <td>insert</td>\n",
       "      <td>Articles</td>\n",
       "    </tr>\n",
       "    <tr>\n",
       "      <th>1</th>\n",
       "      <td>1</td>\n",
       "      <td>Articles</td>\n",
       "      <td>1</td>\n",
       "      <td>Fashion items make up large portion of e-comme...</td>\n",
       "      <td>Fashion items make up a large portion of e-com...</td>\n",
       "      <td>The word \"portion\" is a single, countable noun...</td>\n",
       "      <td>SP</td>\n",
       "      <td>insert</td>\n",
       "      <td>insert</td>\n",
       "      <td>Articles</td>\n",
       "    </tr>\n",
       "    <tr>\n",
       "      <th>2</th>\n",
       "      <td>1</td>\n",
       "      <td>Articles</td>\n",
       "      <td>2</td>\n",
       "      <td>Firstly, increasing number of people are reviv...</td>\n",
       "      <td>Firstly, an increasing number of people are re...</td>\n",
       "      <td>Article required</td>\n",
       "      <td>C</td>\n",
       "      <td>insert</td>\n",
       "      <td>insert</td>\n",
       "      <td>Articles</td>\n",
       "    </tr>\n",
       "    <tr>\n",
       "      <th>3</th>\n",
       "      <td>1</td>\n",
       "      <td>Articles</td>\n",
       "      <td>3</td>\n",
       "      <td>In the recent years, the rise of technology in...</td>\n",
       "      <td>In recent years, the rise of technology in the...</td>\n",
       "      <td>No article required</td>\n",
       "      <td>C</td>\n",
       "      <td>remove</td>\n",
       "      <td>remove</td>\n",
       "      <td>Articles</td>\n",
       "    </tr>\n",
       "    <tr>\n",
       "      <th>4</th>\n",
       "      <td>1</td>\n",
       "      <td>Articles</td>\n",
       "      <td>4</td>\n",
       "      <td>The Sugar Detox Diet, which aims to promote a ...</td>\n",
       "      <td>The Sugar Detox Diet, which aims to promote he...</td>\n",
       "      <td>No article required</td>\n",
       "      <td>C</td>\n",
       "      <td>remove</td>\n",
       "      <td>remove</td>\n",
       "      <td>Articles</td>\n",
       "    </tr>\n",
       "    <tr>\n",
       "      <th>5</th>\n",
       "      <td>1</td>\n",
       "      <td>Preposition</td>\n",
       "      <td>1</td>\n",
       "      <td>A study by ABI Research (2017) forecasted that...</td>\n",
       "      <td>A study by ABI Research (2017) forecasted that...</td>\n",
       "      <td>Idiomatic expressions: will grow by and will g...</td>\n",
       "      <td>C</td>\n",
       "      <td>insert</td>\n",
       "      <td>insert</td>\n",
       "      <td>Preposition</td>\n",
       "    </tr>\n",
       "    <tr>\n",
       "      <th>6</th>\n",
       "      <td>1</td>\n",
       "      <td>Preposition</td>\n",
       "      <td>1</td>\n",
       "      <td>One method to measure brand positioning would ...</td>\n",
       "      <td>One method to measure brand positioning would ...</td>\n",
       "      <td>Modals or modal auxiliary verbs (can, could, m...</td>\n",
       "      <td>SP</td>\n",
       "      <td>insert</td>\n",
       "      <td>insert</td>\n",
       "      <td>Verb Form</td>\n",
       "    </tr>\n",
       "    <tr>\n",
       "      <th>7</th>\n",
       "      <td>1</td>\n",
       "      <td>Preposition</td>\n",
       "      <td>2</td>\n",
       "      <td>I have researched on recent health food trends.</td>\n",
       "      <td>I have researched recent health food trends.</td>\n",
       "      <td>No preposition required after research as a verb</td>\n",
       "      <td>C</td>\n",
       "      <td>remove</td>\n",
       "      <td>remove</td>\n",
       "      <td>Preposition</td>\n",
       "    </tr>\n",
       "    <tr>\n",
       "      <th>8</th>\n",
       "      <td>1</td>\n",
       "      <td>Preposition</td>\n",
       "      <td>3</td>\n",
       "      <td>Board games help people to build up social ski...</td>\n",
       "      <td>Board games help people to build social skills...</td>\n",
       "      <td>No preposition required because the direction ...</td>\n",
       "      <td>C</td>\n",
       "      <td>remove</td>\n",
       "      <td>remove</td>\n",
       "      <td>Preposition</td>\n",
       "    </tr>\n",
       "    <tr>\n",
       "      <th>9</th>\n",
       "      <td>1</td>\n",
       "      <td>Preposition</td>\n",
       "      <td>4</td>\n",
       "      <td>The cost of a mobile phone can amount from $1000.</td>\n",
       "      <td>The cost of a mobile phone can amount to $1000.</td>\n",
       "      <td>Amount to means up to an amount, as in this case.</td>\n",
       "      <td>C</td>\n",
       "      <td>replace</td>\n",
       "      <td>replace</td>\n",
       "      <td>Preposition</td>\n",
       "    </tr>\n",
       "    <tr>\n",
       "      <th>10</th>\n",
       "      <td>1</td>\n",
       "      <td>Punctuation</td>\n",
       "      <td>1</td>\n",
       "      <td>An organisation with family friendly policies ...</td>\n",
       "      <td>An organisation with family-friendly policies ...</td>\n",
       "      <td>hyphenate 'family' and 'friendly' because both...</td>\n",
       "      <td>C</td>\n",
       "      <td>insert</td>\n",
       "      <td>replace</td>\n",
       "      <td>Punctuation</td>\n",
       "    </tr>\n",
       "    <tr>\n",
       "      <th>11</th>\n",
       "      <td>1</td>\n",
       "      <td>Punctuation</td>\n",
       "      <td>1</td>\n",
       "      <td>In comparison the Esplanade spends four times ...</td>\n",
       "      <td>In comparison, the Esplanade spends four times...</td>\n",
       "      <td>You need a comma after the transition phrase \"...</td>\n",
       "      <td>SP</td>\n",
       "      <td>insert</td>\n",
       "      <td>replace</td>\n",
       "      <td>Punctuation</td>\n",
       "    </tr>\n",
       "    <tr>\n",
       "      <th>12</th>\n",
       "      <td>1</td>\n",
       "      <td>Punctuation</td>\n",
       "      <td>2</td>\n",
       "      <td>To encourage entrepreneurship, SMU should star...</td>\n",
       "      <td>To encourage entrepreneurship, SMU should star...</td>\n",
       "      <td>hyphenate 'student' and 'run' because both wor...</td>\n",
       "      <td>C</td>\n",
       "      <td>insert</td>\n",
       "      <td>replace</td>\n",
       "      <td>Punctuation</td>\n",
       "    </tr>\n",
       "    <tr>\n",
       "      <th>13</th>\n",
       "      <td>1</td>\n",
       "      <td>Punctuation</td>\n",
       "      <td>3</td>\n",
       "      <td>His writing style also, instils an urgency in ...</td>\n",
       "      <td>His writing style also instils an urgency in e...</td>\n",
       "      <td>Comma is not needed</td>\n",
       "      <td>C</td>\n",
       "      <td>remove</td>\n",
       "      <td>replace</td>\n",
       "      <td>Punctuation</td>\n",
       "    </tr>\n",
       "    <tr>\n",
       "      <th>14</th>\n",
       "      <td>1</td>\n",
       "      <td>Punctuation</td>\n",
       "      <td>4</td>\n",
       "      <td>Critics would argue that gaming is no differen...</td>\n",
       "      <td>Critics would argue that gaming is no differen...</td>\n",
       "      <td>Comma Splice: Two independent clauses cannot b...</td>\n",
       "      <td>C</td>\n",
       "      <td>replace</td>\n",
       "      <td>replace</td>\n",
       "      <td>Word Form</td>\n",
       "    </tr>\n",
       "    <tr>\n",
       "      <th>15</th>\n",
       "      <td>1</td>\n",
       "      <td>Subject Verb Agreement</td>\n",
       "      <td>1</td>\n",
       "      <td>An explanation of the statistics are required ...</td>\n",
       "      <td>An explanation of the statistics is required t...</td>\n",
       "      <td>\"explanation\" takes the singular form of the v...</td>\n",
       "      <td>C</td>\n",
       "      <td>replace</td>\n",
       "      <td>replace</td>\n",
       "      <td>Subject Verb Agreement</td>\n",
       "    </tr>\n",
       "    <tr>\n",
       "      <th>16</th>\n",
       "      <td>1</td>\n",
       "      <td>Subject Verb Agreement</td>\n",
       "      <td>1</td>\n",
       "      <td>Even readers who uses AR will likely be amazed...</td>\n",
       "      <td>Even readers who use AR will likely be amazed ...</td>\n",
       "      <td>\"readers\" takes the plural form of the verb.</td>\n",
       "      <td>SP</td>\n",
       "      <td>replace</td>\n",
       "      <td>replace</td>\n",
       "      <td>Subject Verb Agreement</td>\n",
       "    </tr>\n",
       "    <tr>\n",
       "      <th>17</th>\n",
       "      <td>1</td>\n",
       "      <td>Subject Verb Agreement</td>\n",
       "      <td>2</td>\n",
       "      <td>Both articles gives employers advice on how to...</td>\n",
       "      <td>Both articles give employers advice on how to ...</td>\n",
       "      <td>\"articles\" takes the plural form of the verb.</td>\n",
       "      <td>C</td>\n",
       "      <td>replace</td>\n",
       "      <td>replace</td>\n",
       "      <td>Subject Verb Agreement</td>\n",
       "    </tr>\n",
       "    <tr>\n",
       "      <th>18</th>\n",
       "      <td>1</td>\n",
       "      <td>Subject Verb Agreement</td>\n",
       "      <td>3</td>\n",
       "      <td>The sources unanimously indicates that phone a...</td>\n",
       "      <td>The sources unanimously indicate that phone ad...</td>\n",
       "      <td>\"sources\" takes the plural form of the verb.</td>\n",
       "      <td>C</td>\n",
       "      <td>replace</td>\n",
       "      <td>replace</td>\n",
       "      <td>Subject Verb Agreement</td>\n",
       "    </tr>\n",
       "    <tr>\n",
       "      <th>19</th>\n",
       "      <td>1</td>\n",
       "      <td>Subject Verb Agreement</td>\n",
       "      <td>4</td>\n",
       "      <td>Almost 20% of employees is looking for a new j...</td>\n",
       "      <td>Almost 20% of employees are looking for a new ...</td>\n",
       "      <td>\"employees\" takes the plural form of the verb.</td>\n",
       "      <td>C</td>\n",
       "      <td>replace</td>\n",
       "      <td>replace</td>\n",
       "      <td>Subject Verb Agreement</td>\n",
       "    </tr>\n",
       "    <tr>\n",
       "      <th>20</th>\n",
       "      <td>1</td>\n",
       "      <td>Verb Form</td>\n",
       "      <td>1</td>\n",
       "      <td>It is forecasted that AR users will increase b...</td>\n",
       "      <td>It is forecasted that AR users will increase b...</td>\n",
       "      <td>Simple future tense</td>\n",
       "      <td>C</td>\n",
       "      <td>insert</td>\n",
       "      <td>insert</td>\n",
       "      <td>Verb Form</td>\n",
       "    </tr>\n",
       "    <tr>\n",
       "      <th>21</th>\n",
       "      <td>1</td>\n",
       "      <td>Verb Form</td>\n",
       "      <td>1</td>\n",
       "      <td>This will incentivize them to be bold in their...</td>\n",
       "      <td>This will incentivize them to be bold in their...</td>\n",
       "      <td>Use parallel structures to emphasize the conne...</td>\n",
       "      <td>SP</td>\n",
       "      <td>insert</td>\n",
       "      <td>insert</td>\n",
       "      <td>Verb Form</td>\n",
       "    </tr>\n",
       "    <tr>\n",
       "      <th>22</th>\n",
       "      <td>1</td>\n",
       "      <td>Verb Form</td>\n",
       "      <td>2</td>\n",
       "      <td>Statistics play an important role in improve t...</td>\n",
       "      <td>Statistics play an important role in improving...</td>\n",
       "      <td>Play an important role in doing something</td>\n",
       "      <td>C</td>\n",
       "      <td>replace</td>\n",
       "      <td>replace</td>\n",
       "      <td>Verb Form</td>\n",
       "    </tr>\n",
       "    <tr>\n",
       "      <th>23</th>\n",
       "      <td>1</td>\n",
       "      <td>Verb Form</td>\n",
       "      <td>3</td>\n",
       "      <td>National Sleep Foundation (n.d. as cited in Ch...</td>\n",
       "      <td>National Sleep Foundation (n.d. as cited in Ch...</td>\n",
       "      <td>In a present perfect tense, the verb has is fo...</td>\n",
       "      <td>C</td>\n",
       "      <td>replace</td>\n",
       "      <td>replace</td>\n",
       "      <td>Verb Form</td>\n",
       "    </tr>\n",
       "    <tr>\n",
       "      <th>24</th>\n",
       "      <td>1</td>\n",
       "      <td>Verb Form</td>\n",
       "      <td>4</td>\n",
       "      <td>Consultations are to be done in private to pre...</td>\n",
       "      <td>Consultations are to be done in private to pre...</td>\n",
       "      <td>Here, eavesdrop' (verb) is functioning as a no...</td>\n",
       "      <td>C</td>\n",
       "      <td>replace</td>\n",
       "      <td>replace</td>\n",
       "      <td>Word Form</td>\n",
       "    </tr>\n",
       "    <tr>\n",
       "      <th>25</th>\n",
       "      <td>1</td>\n",
       "      <td>Word Form</td>\n",
       "      <td>0</td>\n",
       "      <td>Excessive dieting and exercising can have a ne...</td>\n",
       "      <td>Excessive dieting and exercising can have a ne...</td>\n",
       "      <td>\"Dieting and exercising\" are being treated as ...</td>\n",
       "      <td>Test</td>\n",
       "      <td>replace</td>\n",
       "      <td>replace</td>\n",
       "      <td>Word Form</td>\n",
       "    </tr>\n",
       "    <tr>\n",
       "      <th>26</th>\n",
       "      <td>1</td>\n",
       "      <td>Word Form</td>\n",
       "      <td>1</td>\n",
       "      <td>Both trends provide consumers with enjoyable e...</td>\n",
       "      <td>Both trends provide consumers with enjoyable e...</td>\n",
       "      <td>\"Entertainment\" is an uncountable noun, so it ...</td>\n",
       "      <td>C</td>\n",
       "      <td>replace</td>\n",
       "      <td>replace</td>\n",
       "      <td>Word Form</td>\n",
       "    </tr>\n",
       "    <tr>\n",
       "      <th>27</th>\n",
       "      <td>1</td>\n",
       "      <td>Word Form</td>\n",
       "      <td>1</td>\n",
       "      <td>Many fast-fashion retailers have included pyja...</td>\n",
       "      <td>Many fast-fashion retailers have included pyja...</td>\n",
       "      <td>To show similarity, -like can be added to noun...</td>\n",
       "      <td>SP</td>\n",
       "      <td>replace</td>\n",
       "      <td>replace</td>\n",
       "      <td>Punctuation</td>\n",
       "    </tr>\n",
       "    <tr>\n",
       "      <th>28</th>\n",
       "      <td>1</td>\n",
       "      <td>Word Form</td>\n",
       "      <td>2</td>\n",
       "      <td>The rising incidences of stroke among young pe...</td>\n",
       "      <td>The rising incidence of stroke among young peo...</td>\n",
       "      <td>\"Incidence\" is an uncountable noun, so it has ...</td>\n",
       "      <td>C</td>\n",
       "      <td>replace</td>\n",
       "      <td>replace</td>\n",
       "      <td>Word Form</td>\n",
       "    </tr>\n",
       "    <tr>\n",
       "      <th>29</th>\n",
       "      <td>1</td>\n",
       "      <td>Word Form</td>\n",
       "      <td>3</td>\n",
       "      <td>Magnetic masks received overwhelmingly positiv...</td>\n",
       "      <td>Magnetic masks received overwhelmingly positiv...</td>\n",
       "      <td>\"Feedback\" is an uncountable noun, so it has n...</td>\n",
       "      <td>C</td>\n",
       "      <td>replace</td>\n",
       "      <td>replace</td>\n",
       "      <td>Word Form</td>\n",
       "    </tr>\n",
       "  </tbody>\n",
       "</table>\n",
       "</div>"
      ],
      "text/plain": [
       "    questionid                category  ...  give_action           give_category\n",
       "0            1                Articles  ...       insert                Articles\n",
       "1            1                Articles  ...       insert                Articles\n",
       "2            1                Articles  ...       insert                Articles\n",
       "3            1                Articles  ...       remove                Articles\n",
       "4            1                Articles  ...       remove                Articles\n",
       "5            1             Preposition  ...       insert             Preposition\n",
       "6            1             Preposition  ...       insert               Verb Form\n",
       "7            1             Preposition  ...       remove             Preposition\n",
       "8            1             Preposition  ...       remove             Preposition\n",
       "9            1             Preposition  ...      replace             Preposition\n",
       "10           1             Punctuation  ...      replace             Punctuation\n",
       "11           1             Punctuation  ...      replace             Punctuation\n",
       "12           1             Punctuation  ...      replace             Punctuation\n",
       "13           1             Punctuation  ...      replace             Punctuation\n",
       "14           1             Punctuation  ...      replace               Word Form\n",
       "15           1  Subject Verb Agreement  ...      replace  Subject Verb Agreement\n",
       "16           1  Subject Verb Agreement  ...      replace  Subject Verb Agreement\n",
       "17           1  Subject Verb Agreement  ...      replace  Subject Verb Agreement\n",
       "18           1  Subject Verb Agreement  ...      replace  Subject Verb Agreement\n",
       "19           1  Subject Verb Agreement  ...      replace  Subject Verb Agreement\n",
       "20           1               Verb Form  ...       insert               Verb Form\n",
       "21           1               Verb Form  ...       insert               Verb Form\n",
       "22           1               Verb Form  ...      replace               Verb Form\n",
       "23           1               Verb Form  ...      replace               Verb Form\n",
       "24           1               Verb Form  ...      replace               Word Form\n",
       "25           1               Word Form  ...      replace               Word Form\n",
       "26           1               Word Form  ...      replace               Word Form\n",
       "27           1               Word Form  ...      replace             Punctuation\n",
       "28           1               Word Form  ...      replace               Word Form\n",
       "29           1               Word Form  ...      replace               Word Form\n",
       "\n",
       "[30 rows x 10 columns]"
      ]
     },
     "execution_count": 31,
     "metadata": {
      "tags": []
     },
     "output_type": "execute_result"
    }
   ],
   "source": [
    "data.head(30)"
   ]
  },
  {
   "cell_type": "code",
   "execution_count": 12,
   "metadata": {
    "colab": {},
    "colab_type": "code",
    "id": "TLEznJUi_fW9"
   },
   "outputs": [],
   "source": [
    "data['give_action'] = data.apply(lambda x: get_action(x.question, x.solution),axis=1)"
   ]
  },
  {
   "cell_type": "code",
   "execution_count": 13,
   "metadata": {
    "colab": {},
    "colab_type": "code",
    "id": "XVKo9EkK_khb"
   },
   "outputs": [],
   "source": [
    "data['give_category'] = data.apply(lambda x: error_type(x.question, x.solution),axis=1)"
   ]
  },
  {
   "cell_type": "code",
   "execution_count": 18,
   "metadata": {
    "colab": {
     "base_uri": "https://localhost:8080/",
     "height": 35
    },
    "colab_type": "code",
    "id": "gozI7Y_yCyLA",
    "outputId": "310a4a2a-ee8c-4fff-8c5f-179cbec2825a"
   },
   "outputs": [
    {
     "data": {
      "application/vnd.google.colaboratory.intrinsic+json": {
       "type": "string"
      },
      "text/plain": [
       "\"These devices generate huge amount of data that could be used by doctors to enhance patients' care (Burrus, 2015).\""
      ]
     },
     "execution_count": 18,
     "metadata": {
      "tags": []
     },
     "output_type": "execute_result"
    }
   ],
   "source": [
    "s1 = data['question'].iloc[0]\n",
    "s1"
   ]
  },
  {
   "cell_type": "code",
   "execution_count": 19,
   "metadata": {
    "colab": {
     "base_uri": "https://localhost:8080/",
     "height": 35
    },
    "colab_type": "code",
    "id": "3gmDjA2DDir1",
    "outputId": "646696b1-bda0-4035-dc55-205a59911b95"
   },
   "outputs": [
    {
     "data": {
      "application/vnd.google.colaboratory.intrinsic+json": {
       "type": "string"
      },
      "text/plain": [
       "\"These devices generate a huge amount of data that could be used by doctors to enhance patients' care (Burrus, 2015).\""
      ]
     },
     "execution_count": 19,
     "metadata": {
      "tags": []
     },
     "output_type": "execute_result"
    }
   ],
   "source": [
    "s2 = data['solution'].iloc[0]\n",
    "s2"
   ]
  },
  {
   "cell_type": "code",
   "execution_count": 81,
   "metadata": {
    "colab": {},
    "colab_type": "code",
    "id": "0t50YpKnFQGE"
   },
   "outputs": [],
   "source": [
    "def get_expla(s1,s2):\n",
    "    annotator = errant.load('en')\n",
    "    orig = annotator.parse(s1)\n",
    "    cor = annotator.parse(s2)\n",
    "    edits = annotator.annotate(orig, cor)\n",
    "    error = error_type(s1,s2)\n",
    "    if error =='Articles':\n",
    "        for e in edits:\n",
    "            if 'R:' in e.type:\n",
    "                expla = f\"Consider article '{e.c_str}' in front of countable or singular nouns referring to people or things what have not already been mentioned.\"\n",
    "                return expla\n",
    "            elif 'M:' in e.type:\n",
    "                expla = f\"Article '{e.c_str}' is required because of the countable or singular nouns referring to people or things what have not already been mentioned.\"\n",
    "                return expla\n",
    "            elif 'U:' in e.type:\n",
    "                return 'No article required'\n",
    "\n",
    "\n",
    "    elif error =='Preposition':\n",
    "        for e in edits:\n",
    "            if 'R:' in e.type:\n",
    "                expla = f\"Consider '{e.c_str}' to be the proper preposition.\"\n",
    "                return expla\n",
    "            elif 'M:' in e.type:\n",
    "                expla = f\"You need a preposition '{e.c_str}'before a noun or pronoun to show place, position, time or method.\"\n",
    "                return expla\n",
    "            elif 'U:' in e.type:\n",
    "                expla = f\"You don't need preposition '{e.o_str}' here, consider to remove it.\"\n",
    "                return expla\n",
    "            else:\n",
    "                return 'Others'"
   ]
  },
  {
   "cell_type": "code",
   "execution_count": 82,
   "metadata": {
    "colab": {
     "base_uri": "https://localhost:8080/",
     "height": 35
    },
    "colab_type": "code",
    "id": "i_Z96l1WFe2Q",
    "outputId": "fb286ce8-9520-45cb-c5e1-a659b5335673"
   },
   "outputs": [
    {
     "data": {
      "application/vnd.google.colaboratory.intrinsic+json": {
       "type": "string"
      },
      "text/plain": [
       "\"Article 'a' is required because of the countable or singular nouns referring to people or things what have not already been mentioned.\""
      ]
     },
     "execution_count": 82,
     "metadata": {
      "tags": []
     },
     "output_type": "execute_result"
    }
   ],
   "source": [
    "get_expla(s1,s2)"
   ]
  },
  {
   "cell_type": "code",
   "execution_count": 83,
   "metadata": {
    "colab": {},
    "colab_type": "code",
    "id": "kkh6iUEhFtDG"
   },
   "outputs": [],
   "source": [
    "s3 = data['question'].iloc[8]\n",
    "s4 = data['solution'].iloc[8]"
   ]
  },
  {
   "cell_type": "code",
   "execution_count": 84,
   "metadata": {
    "colab": {
     "base_uri": "https://localhost:8080/",
     "height": 35
    },
    "colab_type": "code",
    "id": "ss9hFbf1FzVh",
    "outputId": "dae0eef5-d549-45bb-8fbe-ffa64a494d28"
   },
   "outputs": [
    {
     "data": {
      "application/vnd.google.colaboratory.intrinsic+json": {
       "type": "string"
      },
      "text/plain": [
       "'Preposition'"
      ]
     },
     "execution_count": 84,
     "metadata": {
      "tags": []
     },
     "output_type": "execute_result"
    }
   ],
   "source": [
    "error_type(s3,s4)"
   ]
  },
  {
   "cell_type": "code",
   "execution_count": 85,
   "metadata": {
    "colab": {
     "base_uri": "https://localhost:8080/",
     "height": 35
    },
    "colab_type": "code",
    "id": "0BItqKuBG4w_",
    "outputId": "6ac33d20-96e9-4c66-998d-200fb0cc9575"
   },
   "outputs": [
    {
     "data": {
      "application/vnd.google.colaboratory.intrinsic+json": {
       "type": "string"
      },
      "text/plain": [
       "\"You don't need preposition 'up' here, consider to remove it.\""
      ]
     },
     "execution_count": 85,
     "metadata": {
      "tags": []
     },
     "output_type": "execute_result"
    }
   ],
   "source": [
    "get_expla(s3,s4)"
   ]
  }
 ],
 "metadata": {
  "colab": {
   "name": "Untitled0.ipynb",
   "provenance": []
  },
  "kernelspec": {
   "display_name": "Python 3",
   "language": "python",
   "name": "python3"
  },
  "language_info": {
   "codemirror_mode": {
    "name": "ipython",
    "version": 3
   },
   "file_extension": ".py",
   "mimetype": "text/x-python",
   "name": "python",
   "nbconvert_exporter": "python",
   "pygments_lexer": "ipython3",
   "version": "3.6.8"
  }
 },
 "nbformat": 4,
 "nbformat_minor": 1
}
