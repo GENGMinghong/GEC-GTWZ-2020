{
 "cells": [
  {
   "cell_type": "code",
   "execution_count": 2,
   "metadata": {},
   "outputs": [],
   "source": [
    "from predict_revised import predict_for_file"
   ]
  },
  {
   "cell_type": "code",
   "execution_count": 28,
   "metadata": {},
   "outputs": [
    {
     "name": "stdout",
     "output_type": "stream",
     "text": [
      "Input data: ['I is a gril']\n",
      "Output data: ['I am a gril']\n",
      "Produced overall corrections: 1\n"
     ]
    }
   ],
   "source": [
    "test_data,  output_data, cnt_corrections = predict_for_file(input_file=\"test.txt\", output_file = None, batch_size=32) ### change None to a file path to save the output.\n",
    "print(f\"Input data: {test_data}\")\n",
    "print(f\"Output data: {output_data}\")\n",
    "print(f\"Produced overall corrections: {cnt_corrections}\")"
   ]
  }
 ],
 "metadata": {
  "kernelspec": {
   "display_name": "Python 3",
   "language": "python",
   "name": "python3"
  },
  "language_info": {
   "codemirror_mode": {
    "name": "ipython",
    "version": 3
   },
   "file_extension": ".py",
   "mimetype": "text/x-python",
   "name": "python",
   "nbconvert_exporter": "python",
   "pygments_lexer": "ipython3",
   "version": "3.7.7"
  }
 },
 "nbformat": 4,
 "nbformat_minor": 4
}
